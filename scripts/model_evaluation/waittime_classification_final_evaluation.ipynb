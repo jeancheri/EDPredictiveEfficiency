{
 "cells": [
  {
   "cell_type": "code",
   "execution_count": 1,
   "metadata": {},
   "outputs": [
    {
     "name": "stdout",
     "output_type": "stream",
     "text": [
      "Test data loaded successfully.\n"
     ]
    }
   ],
   "source": [
    "import sys\n",
    "import numpy as np\n",
    "import pandas as pd\n",
    "import joblib\n",
    "import shap  # Import SHAP library\n",
    "import seaborn as sns  # Import Seaborn for visualization\n",
    "import matplotlib.pyplot as plt  # Import matplotlib for plotting\n",
    "from catboost import CatBoostClassifier\n",
    "from sklearn.metrics import accuracy_score, f1_score, precision_score, recall_score\n",
    "from sklearn.model_selection import GridSearchCV, train_test_split, cross_validate\n",
    "from sklearn.metrics import f1_score, roc_auc_score, precision_score, recall_score\n",
    "from sklearn.metrics import classification_report\n",
    "from scipy import sparse as sp\n",
    "from pathlib import Path\n",
    "\n",
    "# Add project root to the Python path\n",
    "project_root = Path.cwd().parent.parent\n",
    "sys.path.append(str(project_root))\n",
    "\n",
    "# Loading dataset\n",
    "path = \"/Users/jeancherizol/MADS/699/all_data\"\n",
    "path_models = \"/Users/jeancherizol/MADS/699/SIADS/emergency-dept-optimization/models\"\n",
    "\n",
    "path_data = \"/Users/jeancherizol/MADS/699/all_data\"\n",
    "processor_filename = f\"{path_models}/data_processor.joblib\"\n",
    "processor = joblib.load(processor_filename)\n",
    "\n",
    "# Load the test data\n",
    "test_data_filename = f\"{path_data}/test_df.csv\"\n",
    "y_test_data_filename = f\"{path_data}/y_test_waittime_classification.csv\"\n",
    "\n",
    "X_test = pd.read_csv(test_data_filename,low_memory=False)\n",
    "y_test = pd.read_csv(y_test_data_filename,low_memory=False)\n",
    "y_test = y_test['WAITTIME_BINARY']\n",
    "\n",
    "print(\"Test data loaded successfully.\")\n",
    "\n",
    "# Transform the test data using the loaded processor\n",
    "X_test_preprocessed = processor.transform(X_test)"
   ]
  },
  {
   "cell_type": "code",
   "execution_count": 2,
   "metadata": {},
   "outputs": [],
   "source": [
    "# Top 60 most important features\n",
    "# top_60_features = ['ARREMS', 'ARRTIME_IN_HOUR', 'DIFFEHRE', 'PATWT', 'DIAGSCRN', 'CSTRATM', 'EDINFO', 'NUMGIV', 'CPSUM', 'PHYSPRACTRIA', 'TOTDIAG', 'HOSPCODE', 'EMRED', 'IMMEDR', 'PULSE', 'WIRELESS', 'EMEDRES', 'BPSYS', 'EMSGE', 'RFV23D', 'RETREFFU', 'OTHPROV', 'MSA', 'EDPRIM', 'IVFLUIDS', 'FASTTRAK', 'TOTPROC', 'ESCRIPE', 'VMONTH', 'RFV33D', 'EREMINDE', 'EMSGER', 'BEDDATA', 'ADMDIV', 'MED1', 'DIAG3_-9', 'EGRAPHE', 'EBILLANYE', 'ESHAREPROVE2', 'EIDPTE', 'KIOSELCHK', 'CTHEAD', 'PAYMCAID', 'ECQMER', 'RFV2', 'AMBDIV', 'BPDIASD', 'ESHAREPROVE4', 'RFV1', 'PAYTYPER', 'URINECX', 'OTHERBLD', 'PROC', 'EPTRECE', 'RFV13D', 'ADVTRIAG', 'ESHAREPROVE7']\n",
    "top_60_features = ['LOV', 'ARREMS', 'ARRTIME_IN_HOUR', 'DIFFEHRE', 'PATWT', 'DIAGSCRN', 'CSTRATM', 'EDINFO', 'NUMGIV', 'CPSUM', 'PHYSPRACTRIA', 'TOTDIAG', 'HOSPCODE', 'EMRED', 'IMMEDR', 'PULSE', 'WIRELESS', 'EMEDRES', 'BPSYS', 'EMSGE', 'RFV23D', 'RETREFFU', 'OTHPROV', 'MSA', 'EDPRIM', 'IVFLUIDS', 'FASTTRAK', 'TOTPROC', 'ESCRIPE', 'VMONTH', 'RFV33D', 'EREMINDE', 'EMSGER', 'BEDDATA', 'ADMDIV', 'MED1', 'DIAG3_-9', 'EGRAPHE', 'EBILLANYE', 'ESHAREPROVE2', 'EIDPTE', 'KIOSELCHK', 'CTHEAD', 'PAYMCAID', 'ECQMER', 'RFV2', 'AMBDIV', 'BPDIASD', 'ESHAREPROVE4', 'RFV1', 'PAYTYPER', 'URINECX', 'OTHERBLD', 'PROC', 'EPTRECE', 'RFV13D', 'ADVTRIAG', 'ESHAREPROVE7']\n",
    "\n",
    "# Get indice of the top 60 most important features\n",
    "feature_indices = [2, 13, 476, 271, 475, 96, 473, 342, 212, 474, 365, 134, 265, 268, 31, 26, 370, 378, 28, 321, 40, 234, 230, 380, 341, 143, 366, 150, 291, 0, 41, 287, 322, 375, 356, 152, 3631, 303, 267, 333, 313, 361, 126, 18, 312, 35, 353, 220, 335, 34, 24, 119, 110, 135, 323, 39, 364, 338]\n",
    "X_test_selected_features = X_test_preprocessed[:, feature_indices]"
   ]
  },
  {
   "cell_type": "code",
   "execution_count": 3,
   "metadata": {},
   "outputs": [
    {
     "name": "stdout",
     "output_type": "stream",
     "text": [
      "Model loaded successfully.\n",
      "Validation Metrics:\n",
      "F1 (Weighted): 0.64, ROC AUC: 0.67, Precision (Weighted): 0.69, Recall (Weighted): 0.62\n",
      "              precision    recall  f1-score   support\n",
      "\n",
      "           0       0.81      0.61      0.70      2573\n",
      "           1       0.39      0.63      0.48      1005\n",
      "\n",
      "    accuracy                           0.62      3578\n",
      "   macro avg       0.60      0.62      0.59      3578\n",
      "weighted avg       0.69      0.62      0.64      3578\n",
      "\n",
      "Class 0 - Precision: 0.81, Recall: 0.61, F1-score: 0.70\n",
      "Class 1 - Precision: 0.39, Recall: 0.63, F1-score: 0.48\n"
     ]
    }
   ],
   "source": [
    "# Define the paths for the model and test data\n",
    "model_filename = f\"{path_models}/best_waittime_classification_catboost_model.joblib\"\n",
    "\n",
    "# Load the trained model\n",
    "model = joblib.load(model_filename)\n",
    "print(\"Model loaded successfully.\")\n",
    "\n",
    "# Predict class labels for the test set\n",
    "y_pred = model.predict(X_test_selected_features)\n",
    "\n",
    "# Predict probabilities for the test set\n",
    "y_pred_proba = model.predict_proba(X_test_selected_features)[:, 1]  # Probabilities for the positive class\n",
    "\n",
    "# Calculate the evaluation metrics\n",
    "f1_validation = f1_score(y_test, y_pred, average='weighted')\n",
    "roc_auc_validation = roc_auc_score(y_test, y_pred_proba)  # Ensure y_test is properly encoded for binary classification\n",
    "precision_validation = precision_score(y_test, y_pred, average='weighted')\n",
    "recall_validation = recall_score(y_test, y_pred, average='weighted')\n",
    "\n",
    "# Print the evaluation metrics\n",
    "print(f\"Validation Metrics:\\nF1 (Weighted): {f1_validation:.2f}, ROC AUC: {roc_auc_validation:.2f}, Precision (Weighted): {precision_validation:.2f}, Recall (Weighted): {recall_validation:.2f}\")\n",
    "\n",
    "#Metrics for each class\n",
    "# Generate a classification report\n",
    "# Correct usage of classification_report to compare true labels and predicted labels\n",
    "report = classification_report(y_test, y_pred, output_dict=True)\n",
    "\n",
    "# Print out the classification report\n",
    "print(classification_report(y_test, y_pred))\n",
    "\n",
    "# Access specific metrics from the report dictionary for custom output, if needed\n",
    "for label, metrics in report.items():\n",
    "    if label not in ('accuracy', 'macro avg', 'weighted avg'):\n",
    "        print(f\"Class {label} - Precision: {metrics['precision']:.2f}, Recall: {metrics['recall']:.2f}, F1-score: {metrics['f1-score']:.2f}\")\n"
   ]
  },
  {
   "cell_type": "code",
   "execution_count": 11,
   "metadata": {},
   "outputs": [
    {
     "name": "stdout",
     "output_type": "stream",
     "text": [
      "Test Metrics:\n",
      "F1 (Weighted): 0.64, ROC AUC: 0.67, Precision (Weighted): 0.69, Recall (Weighted): 0.62\n",
      "              precision    recall  f1-score   support\n",
      "\n",
      "           0       0.81      0.61      0.70      2573\n",
      "           1       0.39      0.63      0.48      1005\n",
      "\n",
      "    accuracy                           0.62      3578\n",
      "   macro avg       0.60      0.62      0.59      3578\n",
      "weighted avg       0.69      0.62      0.64      3578\n",
      "\n",
      "Class 0 - Precision: 0.81, Recall: 0.61, F1-score: 0.70\n",
      "Class 1 - Precision: 0.39, Recall: 0.63, F1-score: 0.48\n"
     ]
    }
   ],
   "source": [
    "\n",
    "# # Load the best model\n",
    "# model_filename = \"best_waittime_classification_catboost_model.joblib\"\n",
    "# best_model = joblib.load(model_filename)\n",
    "\n",
    "# Assuming 'X_test' and 'y_test' are your test datasets\n",
    "\n",
    "# Make predictions on the test set\n",
    "y_test_pred = model.predict(X_test_selected_features)\n",
    "y_test_proba = model.predict_proba(X_test_selected_features)[:, 1]  # For ROC AUC\n",
    "\n",
    "# Calculate metrics\n",
    "f1_test = f1_score(y_test, y_test_pred, average='weighted')\n",
    "roc_auc_test = roc_auc_score(y_test, y_test_proba)\n",
    "precision_test = precision_score(y_test, y_test_pred, average='weighted')\n",
    "recall_test = recall_score(y_test, y_test_pred, average='weighted')\n",
    "\n",
    "# Print test metrics\n",
    "print(f\"Test Metrics:\\nF1 (Weighted): {f1_test:.2f}, ROC AUC: {roc_auc_test:.2f}, Precision (Weighted): {precision_test:.2f}, Recall (Weighted): {recall_test:.2f}\")\n",
    "\n",
    "# Generate and print out the classification report\n",
    "print(classification_report(y_test, y_test_pred))\n",
    "\n",
    "# For more detailed metrics for each class\n",
    "report = classification_report(y_test, y_test_pred, output_dict=True)\n",
    "for label, metrics in report.items():\n",
    "    if label not in ('accuracy', 'macro avg', 'weighted avg'):\n",
    "        print(f\"Class {label} - Precision: {metrics['precision']:.2f}, Recall: {metrics['recall']:.2f}, F1-score: {metrics['f1-score']:.2f}\")\n"
   ]
  }
 ],
 "metadata": {
  "kernelspec": {
   "display_name": "emergency-dept-optimization-VxYDoEAm-py3.11",
   "language": "python",
   "name": "python3"
  },
  "language_info": {
   "codemirror_mode": {
    "name": "ipython",
    "version": 3
   },
   "file_extension": ".py",
   "mimetype": "text/x-python",
   "name": "python",
   "nbconvert_exporter": "python",
   "pygments_lexer": "ipython3",
   "version": "3.11.3"
  }
 },
 "nbformat": 4,
 "nbformat_minor": 2
}
