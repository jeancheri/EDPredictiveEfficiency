{
 "cells": [
  {
   "cell_type": "code",
   "execution_count": 1,
   "metadata": {},
   "outputs": [],
   "source": [
    "\n",
    "import pandas as pd\n",
    "import numpy as np\n",
    "import joblib\n",
    "from sklearn.metrics import mean_absolute_error, r2_score\n",
    "# Loading dataset\n",
    "\n",
    "import sys\n",
    "from pathlib import Path\n",
    "\n",
    "# Adjust the system path to include the project root directory. \n",
    "# It assumes the notebook is inside 'scripts/model_hyperparameter_tuning'.\n",
    "project_root = Path.cwd().parents[1]\n",
    "sys.path.insert(0, str(project_root))\n",
    "\n",
    "# Import the project configuration settings.\n",
    "import config\n",
    "\n",
    "# Loading training data\n",
    "X_test = config.load_data('X_test_regression_WAITTIME.csv', 'test')\n",
    "y_test = config.load_data('y_test_regression_WAITTIME.csv', 'test')\n",
    "\n",
    "# Loading preprocessed data\n",
    "X_test_preprocessed = config.load_data('X_test_preprocessed_regression_WAITTIME.csv', 'processed')\n",
    "\n",
    "# Load the entire dataset as a DataFrame\n",
    "X_test_selected_features = config.load_data('X_test_selected_features_WAITTIME.csv', 'test').sort_index(axis=1)\n",
    "\n"
   ]
  },
  {
   "cell_type": "code",
   "execution_count": 3,
   "metadata": {},
   "outputs": [
    {
     "name": "stdout",
     "output_type": "stream",
     "text": [
      "Model loaded successfully.\n",
      "Mean Absolute Error (MAE) on Test Data: 13.58\n",
      "R-squared on Test Data: 0.38\n"
     ]
    }
   ],
   "source": [
    "# Define the paths for the model and test data\n",
    "model_name = 'best_waittime_regression_model_with_all_features.joblib'\n",
    "# Load the trained model using the utility function from config.py\n",
    "model = config.load_model(model_name)\n",
    "print(\"Model loaded successfully.\")\n",
    "\n",
    "# Evaluate the model on the test data for all features\n",
    "y_pred = model.predict(X_test_preprocessed)\n",
    "\n",
    "# Calculate the evaluation metrics\n",
    "mae = mean_absolute_error(y_test, y_pred)\n",
    "r2 = r2_score(y_test, y_pred)\n",
    "\n",
    "# Print the evaluation metrics\n",
    "print(f\"Mean Absolute Error (MAE) on Test Data: {round(mae, 2)}\")\n",
    "print(f\"R-squared on Test Data: {round(r2, 2)}\")"
   ]
  },
  {
   "cell_type": "code",
   "execution_count": 4,
   "metadata": {},
   "outputs": [
    {
     "name": "stdout",
     "output_type": "stream",
     "text": [
      "Model loaded successfully.\n",
      "Mean Absolute Error (MAE) on Test Data: 13.52\n",
      "R-squared on Test Data: 0.38\n"
     ]
    }
   ],
   "source": [
    "# Define the paths for the model and test data\n",
    "model_name = 'best_waittime_regression_model_with_top_features.joblib'\n",
    "# Load the trained model using the utility function from config.py\n",
    "model = config.load_model(model_name)\n",
    "print(\"Model loaded successfully.\")\n",
    "\n",
    "# Now, make the prediction\n",
    "y_pred = model.predict(X_test_selected_features)\n",
    "\n",
    "# Calculate and print the evaluation metrics\n",
    "mae = mean_absolute_error(y_test, y_pred)\n",
    "r2 = r2_score(y_test, y_pred)\n",
    "print(f\"Mean Absolute Error (MAE) on Test Data: {round(mae, 2)}\")\n",
    "print(f\"R-squared on Test Data: {round(r2, 2)}\")"
   ]
  }
 ],
 "metadata": {
  "kernelspec": {
   "display_name": "emergency-dept-optimization-VxYDoEAm-py3.11",
   "language": "python",
   "name": "python3"
  },
  "language_info": {
   "codemirror_mode": {
    "name": "ipython",
    "version": 3
   },
   "file_extension": ".py",
   "mimetype": "text/x-python",
   "name": "python",
   "nbconvert_exporter": "python",
   "pygments_lexer": "ipython3",
   "version": "3.11.3"
  }
 },
 "nbformat": 4,
 "nbformat_minor": 2
}
