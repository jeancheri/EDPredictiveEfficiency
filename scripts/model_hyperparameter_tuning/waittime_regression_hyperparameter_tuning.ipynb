{
 "cells": [
  {
   "cell_type": "code",
   "execution_count": 1,
   "metadata": {},
   "outputs": [],
   "source": [
    "import numpy as np\n",
    "import pandas as pd\n",
    "import os\n",
    "import joblib\n",
    "import shap  # Import SHAP library\n",
    "import seaborn as sns  # Import Seaborn for visualization\n",
    "import matplotlib.pyplot as plt  # Import matplotlib for plotting\n",
    "from catboost import CatBoostRegressor\n",
    "from sklearn.model_selection import GridSearchCV, train_test_split, cross_validate\n",
    "from sklearn.metrics import mean_absolute_error, r2_score, mean_squared_error\n",
    "from scipy import sparse as sp\n",
    "from lightgbm import LGBMRegressor\n",
    "\n",
    "import sys\n",
    "from pathlib import Path\n",
    "\n",
    "project_root = Path.cwd().parents[1]\n",
    "sys.path.insert(0, str(project_root))\n",
    "\n",
    "# Import the project configuration settings.\n",
    "import config\n",
    "\n",
    "# Loading training data\n",
    "X_train = config.load_data('X_train_regression_WAITTIME.csv', 'train')\n",
    "y_train = config.load_data('y_train_regression_WAITTIME.csv', 'train')\n",
    "\n",
    "# Loading validation data, if percent_val > 0\n",
    "X_validation = config.load_data('X_validation_regression_WAITTIME.csv', 'validation')\n",
    "y_validation = config.load_data('y_validation_regression_WAITTIME.csv', 'validation')\n",
    "\n",
    "# Loading preprocessed data\n",
    "X_train_preprocessed = config.load_data('X_train_preprocessed_regression_WAITTIME.csv', 'processed')\n",
    "X_validation_preprocessed = config.load_data('X_validation_preprocessed_regression_WAITTIME.csv', 'processed')\n",
    "X_test_preprocessed = config.load_data('X_test_preprocessed_regression_WAITTIME.csv', 'processed')\n",
    "\n",
    "feature_names = config.load_data('features_WAITTIME.csv', 'features')['0'].tolist()\n",
    "top_features = config.load_data('top_features_WAITTIME.csv', 'features')['0'].tolist()\n",
    "top_feature_indices = config.load_data('feature_indices_WAITTIME.csv', 'features')['0'].tolist()\n",
    "\n",
    "X_train_selected_features = config.load_data('X_train_selected_features_WAITTIME.csv', 'train').sort_index(axis=1)\n",
    "X_validation_selected_features = config.load_data('X_validation_selected_features_WAITTIME.csv', 'validation').sort_index(axis=1)\n",
    "X_test_selected_features = config.load_data('X_test_selected_features_WAITTIME.csv', 'test').sort_index(axis=1)\n"
   ]
  },
  {
   "cell_type": "code",
   "execution_count": 2,
   "metadata": {},
   "outputs": [
    {
     "name": "stdout",
     "output_type": "stream",
     "text": [
      "Starting hyperparameter tuning...\n",
      "Fitting 5 folds for each of 81 candidates, totalling 405 fits\n",
      "Validation MAE: 13.86, R2: 0.37\n",
      "LGBMRegressor(depth=4, force_col_wise=True, iterations=30, l2_leaf_reg=1,\n",
      "              random_state=42, verbosity=-1) saved\n"
     ]
    }
   ],
   "source": [
    "\n",
    "# Define a range of hyperparameters for CatBoostRegressor\n",
    "param_grid = {\n",
    "    'depth': [4, 6, 8],\n",
    "    'learning_rate': [0.01, 0.05, 0.1],\n",
    "    'iterations': [30, 50, 100],\n",
    "    'l2_leaf_reg': [1, 3, 5]\n",
    "}\n",
    "\n",
    "# Initialize CatBoostRegressor and GridSearchCV\n",
    "# catboost_model = CatBoostRegressor(random_state=42, verbose=0)\n",
    "catboost_model= LGBMRegressor(random_state=42, force_col_wise=True, verbosity=-1)\n",
    "grid_search = GridSearchCV(estimator=catboost_model, param_grid=param_grid, cv=5, n_jobs=-1, scoring='neg_mean_squared_error', verbose=1)\n",
    "\n",
    "# Perform hyperparameter tuning\n",
    "print(\"Starting hyperparameter tuning...\")\n",
    "# grid_search.fit(X_train_selected_features, y_train)\n",
    "grid_search.fit(X_train_preprocessed, y_train)\n",
    "\n",
    "# Retrieve and report the best hyperparameters\n",
    "best_hyperparams = grid_search.best_params_\n",
    "# print(f\"Best hyperparameters: {best_hyperparams}\")\n",
    "\n",
    "# Training the final model with best hyperparameters on the entire training data\n",
    "best_model = grid_search.best_estimator_\n",
    "\n",
    "# Optional: Evaluate on validation set\n",
    "# y_validation_pred = best_model.predict(X_validation_selected_features)\n",
    "y_validation_pred = best_model.predict(X_validation_preprocessed)\n",
    "mae_validation = mean_absolute_error(y_validation, y_validation_pred)\n",
    "r2_validation = r2_score(y_validation, y_validation_pred)\n",
    "print(f\"Validation MAE: {mae_validation:.2f}, R2: {r2_validation:.2f}\")\n",
    "\n",
    "# # Save the best trained model \n",
    "model_filename = f\"best_waittime_regression_model_with_all_features.joblib\"\n",
    "config.save_model(best_model, model_filename)\n",
    "# Print confirmation\n",
    "print(f\"{best_model} saved\")\n",
    "\n"
   ]
  },
  {
   "cell_type": "code",
   "execution_count": 3,
   "metadata": {},
   "outputs": [
    {
     "name": "stdout",
     "output_type": "stream",
     "text": [
      "Validation MAE: 13.87, R2: 0.36\n",
      "best_waittime_regression_model_with_top_features.joblib saved\n"
     ]
    }
   ],
   "source": [
    "\n",
    "# Retrain the model using the best hyperparameters and only the top 60 features\n",
    "best_model.fit(X_train_selected_features, y_train)\n",
    "\n",
    "# Predict on the validation set using the retrained model\n",
    "y_validation_pred = best_model.predict(X_validation_selected_features)\n",
    "\n",
    "# Evaluate the model's performance\n",
    "mae_validation = mean_absolute_error(y_validation, y_validation_pred)\n",
    "r2_validation = r2_score(y_validation, y_validation_pred)\n",
    "\n",
    "# Output the performance metrics\n",
    "print(f\"Validation MAE: {mae_validation:.2f}, R2: {r2_validation:.2f}\")\n",
    "\n",
    "# Save the best trained model\n",
    "# Define the model name\n",
    "model_name = 'best_waittime_regression_model_with_top_features.joblib'\n",
    "# Save the model using the utility function from config.py\n",
    "config.save_model(best_model, model_name)\n",
    "# Print confirmation\n",
    "print(f\"{model_name} saved\")\n"
   ]
  },
  {
   "cell_type": "code",
   "execution_count": null,
   "metadata": {},
   "outputs": [],
   "source": []
  }
 ],
 "metadata": {
  "kernelspec": {
   "display_name": "emergency-dept-optimization-VxYDoEAm-py3.11",
   "language": "python",
   "name": "python3"
  },
  "language_info": {
   "codemirror_mode": {
    "name": "ipython",
    "version": 3
   },
   "file_extension": ".py",
   "mimetype": "text/x-python",
   "name": "python",
   "nbconvert_exporter": "python",
   "pygments_lexer": "ipython3",
   "version": "3.11.3"
  }
 },
 "nbformat": 4,
 "nbformat_minor": 2
}
