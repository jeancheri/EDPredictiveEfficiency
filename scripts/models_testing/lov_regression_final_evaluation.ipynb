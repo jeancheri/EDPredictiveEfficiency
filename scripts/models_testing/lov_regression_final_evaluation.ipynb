{
 "cells": [
  {
   "cell_type": "code",
   "execution_count": 7,
   "metadata": {},
   "outputs": [],
   "source": [
    "import os\n",
    "import matplotlib.pyplot as plt\n",
    "import sklearn\n",
    "import seaborn as sns\n",
    "import shap\n",
    "import numpy as np\n",
    "import scipy.stats as stats\n",
    "# from sklearn.inspection import plot_partial_dependence\n",
    "\n",
    "\n",
    "import pandas as pd\n",
    "import numpy as np\n",
    "import joblib\n",
    "from sklearn.metrics import mean_absolute_error, r2_score\n",
    "# Loading dataset\n",
    "\n",
    "import sys\n",
    "from pathlib import Path\n",
    "\n",
    "# Adjust the system path to include the project root directory. \n",
    "# It assumes the notebook is inside 'scripts/model_hyperparameter_tuning'.\n",
    "project_root = Path.cwd().parents[1]\n",
    "sys.path.insert(0, str(project_root))\n",
    "\n",
    "# Import the project configuration settings.\n",
    "import config\n",
    "from config import RANDOM_SEED\n",
    "config.set_seed()\n",
    "# Import our custom utility functions\n",
    "from utils import DataPreprocessingPipeline"
   ]
  },
  {
   "cell_type": "code",
   "execution_count": 3,
   "metadata": {},
   "outputs": [],
   "source": [
    "# Load the raw data from the data/raw directory using the load_data method from the config module located at config.org\n",
    "emergency_df = config.load_data('nhamcs14.sas7bdat', 'raw')"
   ]
  },
  {
   "cell_type": "code",
   "execution_count": 6,
   "metadata": {},
   "outputs": [
    {
     "name": "stdout",
     "output_type": "stream",
     "text": [
      "1-Cleaning data...\n",
      "Data cleaning completed\n",
      "Size of Initial dataset:(23844, 1012)\n",
      "Size of cleaned dataset:(17959, 370)\n",
      "\n",
      "2-Applying feature engineering...\n",
      "Feature engineering completed\n",
      "Size of the dataset after feature engineering:(17959, 387)\n",
      "\n",
      "3-Splitting data...\n",
      "self.stratify: False\n",
      "Splitting data completed\n",
      "\n",
      "4-Loading data...\n",
      "train_df size: (12571, 387)\n",
      "X_train size: (12571, 386)\n",
      "y_train size: (12571,)\n",
      "\n",
      "validation_df size: (2693, 387)\n",
      "X_validation size: (2693, 386)\n",
      "y_validation size: (2693,)\n",
      "\n",
      "test_df size: (2695, 387)\n",
      "X_test size: (2695, 386)\n",
      "y_test size: (2695,)\n",
      "Loading data completed\n",
      "\n",
      "5-Preprocessing data...\n",
      "Preprocessing data completed.\n",
      "Processor saved successfully\n"
     ]
    }
   ],
   "source": [
    "# Load and preprocess data using a custom pipeline defined in the utils module.\n",
    "# Define the target variable and columns to drop\n",
    "target = \"LOV\"\n",
    "target_to_drop = ['LOV_BINARY', 'WAITTIME_BINARY']\n",
    "\n",
    "# Initializing the data preprocessing pipeline\n",
    "pipeline = DataPreprocessingPipeline(emergency_df=emergency_df, target=target,\n",
    "                                     target_to_drop=target_to_drop, percent_train=0.70,\n",
    "                                     percent_val=0.15, percent_test=0.15, stratify=False)\n",
    "\n",
    "# Running the data preprocessing steps\n",
    "pipeline.run()\n",
    "\n",
    "# Extracting the preprocessed training, validation, and test sets\n",
    "X_train_preprocessed = pipeline.X_train_preprocessed\n",
    "X_validation_preprocessed = pipeline.X_validation_preprocessed\n",
    "X_test_preprocessed = pipeline.X_test_preprocessed\n",
    "y_train = pipeline.y_train\n",
    "y_validation = pipeline.y_validation\n",
    "y_test = pipeline.y_test\n",
    "\n",
    "feature_names = pipeline.feature_names\n",
    "\n",
    "cleaned_emergency_df = pipeline.cleaned_emergency_df \n",
    "transformed_emergency_df = pipeline.transformed_emergency_df\n",
    "\n",
    "# Save the feature names for future reference\n",
    "feature_names = [name.replace('num__', '').replace('cat__', '') for name in pipeline.feature_names]\n",
    "feature_names_list = list(feature_names)\n",
    "config.save_data(feature_names, f\"features_{target}.csv\", 'features')"
   ]
  },
  {
   "cell_type": "code",
   "execution_count": 9,
   "metadata": {},
   "outputs": [
    {
     "name": "stdout",
     "output_type": "stream",
     "text": [
      "Model loaded successfully.\n"
     ]
    }
   ],
   "source": [
    "# Loads the tuned model and evaluates its performance on the test set\n",
    "model_train_dir = \"/Users/Macbook/Desktop/EDPredictiveEfficiency/notebooks/model_train/\"\n",
    "model_filename = \"CatBoostRegressor_tuned.joblib\"\n",
    "model_file_path = os.path.join(model_train_dir, model_filename)\n",
    "trained_model = joblib.load(model_file_path) if os.path.exists(model_file_path) else print(f\"No such file found: {model_file_path}\")\n",
    "print(\"Model loaded successfully.\")"
   ]
  },
  {
   "cell_type": "code",
   "execution_count": 10,
   "metadata": {},
   "outputs": [
    {
     "name": "stdout",
     "output_type": "stream",
     "text": [
      "Test Set Performance:\n",
      "Mean Absolute Error (MAE) on Test Data: 51.49\n",
      "R-squared on Test Data: 0.55\n"
     ]
    }
   ],
   "source": [
    "# Make predictions on the test dataset with_all_features\n",
    "y_pred_test = trained_model.predict(X_test_preprocessed)\n",
    "# Evaluate the final model's performance on the test dataset\n",
    "mae_test = mean_absolute_error(y_test, y_pred_test)\n",
    "r2_test = r2_score(y_test, y_pred_test)\n",
    "print(\"Test Set Performance:\")\n",
    "print(f\"Mean Absolute Error (MAE) on Test Data: {round(mae_test, 2)}\")\n",
    "print(f\"R-squared on Test Data: {round(r2_test, 2)}\")"
   ]
  },
  {
   "cell_type": "code",
   "execution_count": 45,
   "metadata": {},
   "outputs": [
    {
     "name": "stdout",
     "output_type": "stream",
     "text": [
      "\n",
      "Most important features (Importance > 0.0):\n",
      "      Feature  Importance\n",
      "0    WAITTIME    0.118134\n",
      "1     TOTDIAG    0.096954\n",
      "2       CPSUM    0.021913\n",
      "3     EMEDRES    0.020564\n",
      "4     CSTRATM    0.019126\n",
      "..        ...         ...\n",
      "346      MED9    0.000011\n",
      "347  EORDERER    0.000009\n",
      "348     AGEFL    0.000007\n",
      "349    NODISP    0.000007\n",
      "350  CAUSE33D    0.000005\n",
      "\n",
      "[351 rows x 2 columns]\n",
      "Top  most important features:\n",
      "['WAITTIME', 'TOTDIAG', 'CPSUM', 'EMEDRES', 'CSTRATM', 'IVFLUIDS', 'HOSPCODE', 'CBC', 'PATWT', 'BOARDED', 'NUMGIV', 'DIAG1', 'AGE', 'CATSCAN', 'DIAG1R', 'ARRTIME_IN_HOUR', 'DIAGSCRN', 'IMBED', 'CONSULT', 'ANYIMAGE', 'IMMEDR', 'ARRTIME_IN_MN', 'PULSE', 'BPDIAS', 'DIAG13D', 'BPSYS', 'RX_combined', 'EIDPTE', 'AMBTRANSFER', 'ULTRASND', 'CTCONTRAST', 'PATCODE', 'VMONTH', 'ARREMS', 'ADMDIV', 'ZONENURS', 'MED1', 'RFV1', 'EHRINSE', 'MED2', 'BPDIASD', 'ESCRIPE', 'OTHPROV', 'POPCT', 'MED4', 'RFV13D', 'BOARD', 'TEMPDF', 'BPSYSD', 'TEMPF', 'PAINSCALE', 'MSA', 'MED3', 'GPMED1', 'TOTHRDIVR', 'TOTCHRON', 'FASTTRAK', 'PULSED', 'TOTPROC', 'DIAG2', 'ELECTROL', 'REGDIV', 'RESPRD', 'REGION', 'TRANPSYC', 'RFV2', 'CATRIAGE', 'AMBDIV', 'DIAG2R', 'DIFFEHRE', 'OTHERBLD', 'CTCHEST', 'DEPRN', 'PAYTYPER', 'VDAYR', 'TRANOTH', 'RESPR', 'PHYSPRACTRIA', 'INJDETR', 'RFV23D', 'HLIST', 'OBSPHYSED', 'CTAB', 'DIAG23D', 'INCPHYS', 'MED6', 'ESHAREEHRE', 'NOCHRON', 'SURGDAY', 'VMONTH_SEASON_fall', 'ESHAREWEBE', 'NUMDIS', 'ESHAREPROVE5', 'RFV3', 'MRI', 'RFV33D', 'RESINT', 'BUNCREAT', 'BOARDHOS', 'ARRTIME_PART_OF_DAY_night', 'CARDMON', 'PROC', 'DIAG3', 'PRDIAG4', 'NUMMED', 'GPMED4', 'OBSPHYSUN', 'EMT', 'EIMMREGE', 'BEDCZAR', 'DIAG3R', 'AGER', 'ARRTIME_WEEKEND_INTERACTION', 'OTHIMAGE', 'VMONTH_SEASON_summer', 'EMSGE', 'GPMED2', 'MUSTAGE2', 'EXPSPACE', 'RACER', 'GLUCOSE', 'DIAG4R', 'ATTPHYS', 'EIDPTER', 'BEDDATA', 'OBSSEP', 'SEX', 'DIAG4', 'EHRTOEHRE', 'POOLNURS', 'CTOTHER', 'HDDIAG13D', 'CAUSE1R', 'GPMED3', 'EKG', 'RACEUN', 'OBSCLIN', 'RFID', 'ECPOEER', 'OTHRTEST', 'EDINFO', 'OBSDIS', 'VITALSD', 'OBSHOSP', 'RESIDNCE', 'ARRTIME_PART_OF_DAY_morning', 'SECURCHCKE', 'RACERETH', 'LOS', 'ESHAREPROVE4', 'OBSPHYSOT', 'EPTEDUE', 'EDPRIM', 'CAUSE13D', 'DIAG33D', 'SEEN72', 'MED5', 'EPTRECE', 'RETREFFU', 'EIMMREGER', 'ESHAREE', 'KIOSELCHK', 'GPMED5', 'ESHAREPROVE6', 'DASHBORD', 'ADVTRIAG', 'SUTURE', 'EMRED', 'OBSSTAY', 'DIAG43D', 'MHPROV', 'URINECX', 'ESUME', 'CANCER', 'ESHAREPROVE7', 'ESHAREPROVE2', 'HDSTAT', 'RFV4', 'HDDIAG33D', 'SUBSTAB', 'ETOHAB', 'AGEDAYS', 'ARRTIME_PART_OF_DAY_afternoon', 'ESCRIPER', 'RNLPN', 'EREMINDER', 'CAUSE1', 'VMONTH_SEASON_spring', 'ETHUN', 'EREMINDE', 'PAYMCAID', 'EFORMULAER', 'ETHIM', 'EIMGRESER', 'OTHDISP', 'EGRAPHE', 'RFV43D', 'URINE', 'BLOODCX', 'ECPOEE', 'EMSGER', 'ESHAREPROVE3', 'HTN', 'PTTINR', 'DIAG53D', 'INJPOISAD', 'BEDREG', 'EPISODE', 'HDDIAG1R', 'HLISTED', 'ESMOKEE', 'ADISP', 'MUSTAGE1', 'ECQME', 'INJDETR2', 'MRICONTRAST', 'EMEDIDE', 'EPTRECER', 'EGENLISTER', 'TOXSCREN', 'ECQMER', 'BAC', 'INCSHX', 'PAYMCARE', 'HDDIAG1', 'PRDIAG3', 'HHSMUE', 'EWARNER', 'RACERFL', 'ADMTPHYS', 'PAYPRIV', 'CTHEAD', 'GPMED6', 'ARRTIME_PART_OF_DAY_evening', 'EPTEDUER', 'ASTHMA', 'VMONTH_SEASON_winter', 'PRDIAG5', 'EDPTOR', 'COPD', 'ECTOEE', 'EMEDIDER', 'MED8', 'CAD', 'HDDIAG23D', 'INJURY72', 'MED7', 'EWARNE', 'ADMIT', 'XRAY', 'INJPOISADR1', 'PAYNOCHG', 'HDDIAG3', 'HDDIAG2', 'CKD', 'EGENLISTE', 'PAYDK', 'HIVTEST', 'PREGTEST', 'INTENT', 'ESHAREUNKE', 'DIAG5R', 'PHYSASST', 'ESHAREPROVE1', 'EBILLANYE', 'TRANNH', 'LFT', 'RFV53D', 'ESHAREPROVEUNK', 'PAYSELF', 'ESHAREREFE', 'ESUMER', 'INJURY', 'OTHPROC', 'ETHNICFL', 'INJR2', 'ERESULTE', 'LEFTAMA', 'GPMED8', 'HDDIAG2R', 'EPROLSTE', 'GPMED7', 'ESMOKEER', 'EIMGRESE', 'HPE', 'CASTSPLINT', 'ESHAREOTHE', 'RETRNED', 'RFV5', 'DDIMER', 'ADMITHOS', 'HYPLIPID', 'WOUNDCX', 'DIABTYP1', 'INJPOISADR2', 'HDDIAG53D', 'MED', 'ERESULTER', 'NOFU', 'EVITALE', 'HDDIAG4', 'EORDERE', 'PRDIAG2', 'ESHAREPROVEREF', 'EFORMULAE', 'CEBVD', 'EGRAPHER', 'INJDETR1', 'NEBUTHER', 'EDEMOGER', 'EVITALER', 'DIAG5', 'OSTPRSIS', 'CARDENZ', 'EPROLSTER', 'HDDIAG5', 'EPNOTESER', 'HDDIAG4R', 'PAYOTH', 'ERADIER', 'EMEDALGE', 'ECTOEER', 'CAUSE3', 'ENDOINT', 'WIRELESS', 'ESRD', 'CHF', 'DIABTYP0', 'DIABTYP2', 'VDAYR_WEEKEND', 'EDEMOGE', 'CAUSE2R', 'ERADIE', 'PELVIC', 'CAUSE23D', 'BPAP', 'FLUTEST', 'BLADCATH', 'HDDIAG3R', 'CAUSE3R', 'HDDIAG43D', 'NURSEPR', 'SEXFL', 'HDDIAG5R', 'EDHIV', 'CENTLINE', 'MED9', 'EORDERER', 'AGEFL', 'NODISP', 'CAUSE33D', 'MED1_GROUP_Other', 'DIAG1_GROUP_Other', 'DIAG2_GROUP_Other', 'DIAG3_GROUP_Other', 'MED6_GROUP_Other', 'MED2_GROUP_Other', 'MED3_GROUP_Other', 'MED4_GROUP_Other', 'MED5_GROUP_Other', 'LUMBAR', 'MED7_GROUP_Other', 'MED8_GROUP_Other', 'MED9_GROUP_Other', 'SKINADH', 'NOPAY', 'NOPROVID', 'PAYWKCMP', 'LACTATE', 'INCDRAIN', 'CTUNK', 'ABG', 'OSA', 'OBESITY', 'EPNOTESE', 'EMEDALGER', 'BNP', 'BDATEFL', 'STAY24', 'ALZHD', 'PRDIAG1', 'YEAR', 'CAUSE2', 'OBSHOS', 'CPR', 'DIEDED', 'DOA', 'INJR1', 'LEFTATRI', 'LEFTBTRI', 'SETTYPE', 'GPMED9']\n"
     ]
    },
    {
     "data": {
      "image/png": "[encoded data removed]",
      "text/plain": [
       "<Figure size 1000x600 with 1 Axes>"
      ]
     },
     "metadata": {},
     "output_type": "display_data"
    }
   ],
   "source": [
    "# Get feature importances from the trained model\n",
    "top_n = 20\n",
    "feature_importances = trained_model.feature_importances_\n",
    "\n",
    "# Normalize the feature importances\n",
    "normalized_importances = feature_importances / np.sum(feature_importances)\n",
    "\n",
    "# Create a dataframe with feature names and their normalized importances\n",
    "feature_importance_df = pd.DataFrame({'Feature': feature_names, 'Importance': normalized_importances})\n",
    "\n",
    "# Sort the features by importance in descending order\n",
    "feature_importance_df = feature_importance_df.sort_values('Importance', ascending=False)\n",
    "feature_importance_df.reset_index(drop=True, inplace=True)\n",
    "# Select the most important features based on a threshold\n",
    "importance_threshold = 0.0 # (Importance > 0)\n",
    "important_features_df = feature_importance_df[feature_importance_df['Importance'] > importance_threshold]\n",
    "\n",
    "print(f\"\\nMost important features (Importance > {importance_threshold}):\")\n",
    "print(important_features_df)\n",
    "\n",
    "top_features_df = feature_importance_df#.head(top_n)\n",
    "\n",
    "# Extract the feature names into a list\n",
    "top_features_list = top_features_df['Feature'].tolist()\n",
    "print(f\"Top  most important features:\")\n",
    "print(top_features_list)\n",
    "# Plot the top 10 important features\n",
    "\n",
    "plt.figure(figsize=(10, 6))\n",
    "plt.bar(important_features_df['Feature'].head(top_n), important_features_df['Importance'].head(top_n), color='skyblue', edgecolor='black')\n",
    "plt.xticks(rotation=90)\n",
    "plt.xlabel('Features')\n",
    "plt.ylabel('Importance')\n",
    "plt.title('Important Features')\n",
    "plt.tight_layout()\n",
    "plt.show()\n"
   ]
  },
  {
   "cell_type": "code",
   "execution_count": 44,
   "metadata": {},
   "outputs": [
    {
     "data": {
      "text/plain": [
       "351"
      ]
     },
     "execution_count": 44,
     "metadata": {},
     "output_type": "execute_result"
    }
   ],
   "source": [
    "# Create a new DataFrame with the most important features and the target variable (LOV)\n",
    "important_features_list = important_features_df['Feature'].tolist()\n",
    "len(important_features_list)"
   ]
  },
  {
   "cell_type": "code",
   "execution_count": 40,
   "metadata": {},
   "outputs": [],
   "source": [
    "# Get the indices of the most important features in the preprocessed test set\n",
    "important_feature_indices = [feature_names_list.index(feature) if feature in feature_names_list else None for feature in important_features_list]\n",
    "# Select the most important features from the test set using indices and handle missing features\n",
    "X_test_important_features = X_test_preprocessed[:, important_feature_indices]\n",
    "X_train_selected_features = X_train_preprocessed[:, important_feature_indices]"
   ]
  },
  {
   "cell_type": "code",
   "execution_count": 49,
   "metadata": {},
   "outputs": [
    {
     "name": "stdout",
     "output_type": "stream",
     "text": [
      "\n",
      "Test Set Performance (Important Features):\n",
      "MAE: 50.999830071118176\n",
      "R-squared: 0.558118324028289\n"
     ]
    }
   ],
   "source": [
    "trained_model.fit(X_train_selected_features, y_train)\n",
    "# Evaluate the best model on the test set using only the most important features\n",
    "y_pred_test_top = trained_model.predict(X_test_important_features)\n",
    "mae_test_important_features = mean_absolute_error(y_test, y_pred_test_top)\n",
    "r2_test_important_features = r2_score(y_test, y_pred_test_top)\n",
    "\n",
    "print(\"\\nTest Set Performance (Important Features):\")\n",
    "print(\"MAE:\", mae_test_important_features)\n",
    "print(\"R-squared:\", r2_test_important_features)"
   ]
  }
 ],
 "metadata": {
  "kernelspec": {
   "display_name": "emergency-dept-optimization-QtjxB3YM-py3.10",
   "language": "python",
   "name": "python3"
  },
  "language_info": {
   "codemirror_mode": {
    "name": "ipython",
    "version": 3
   },
   "file_extension": ".py",
   "mimetype": "text/x-python",
   "name": "python",
   "nbconvert_exporter": "python",
   "pygments_lexer": "ipython3",
   "version": "3.11.0"
  },
  "orig_nbformat": 4
 },
 "nbformat": 4,
 "nbformat_minor": 2
}
